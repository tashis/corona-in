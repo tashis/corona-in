import numpy as np
import pandas as pd
url = ('https://raw.githubusercontent.com/tashis/corona-in/master/IndividualDetails.csv')
states_df = pd.read_csv(url)
cols_keep = ["diagnosed_date", "detected_state", "current_status"]
states_red_df = states_df[cols_keep]
states_red_df["diagnosed_date"] = pd.to_datetime(states_red_df["diagnosed_date"], format="%d/%m/%Y")
states_red_sorted_df = states_red_df.sort_values('diagnosed_date').groupby(['detected_state']).count()
states_red_sorted_df
states_red_df.groupby(["detected_state","current_status"]).size().to_frame().reset_index()
states_red_df.query('current_status=="Hospitalized"')
states_red_df.query('current_status=="Recovered"')
states_red_df.query('current_status=="Deceased"')
states_red_df.query('current_status=="Migrated"')
states_red_vals_df = states_red_df['current_status'].unique()
states_red_vals_df
