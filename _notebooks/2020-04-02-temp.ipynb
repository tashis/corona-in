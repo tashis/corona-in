import numpy as np
import pandas as pd
url = ('https://raw.githubusercontent.com/tashis/corona-in/master/IndividualDetails.csv')
states_df = pd.read_csv(url)
cols_keep = ["diagnosed_date", "detected_state", "current_status"]
states_red_df = states_df[cols_keep]
#states_red_df["diagnosed_date"] = pd.to_datetime(states_red_df["diagnosed_date"], format="%d/%m/%Y")
#df_cases_total = states_red_df.groupby(["detected_state","current_status"]).size().to_frame().reset_index()
#x=df_cases_total.query('current_status=="Hospitalized"')
#x=x.reset_index()
#x.columns
#x=x[['detected_state', 0]]
#y=df_cases_total.groupby('detected_state').sum()
#y.rename(columns={0:'Cases'},inplace=True)
#y=y.reset_index()
#z=y.set_index('detected_state').join(x.set_index('detected_state'))
#z.rename(columns={0:'Hospitalized'},inplace=True)
#z

